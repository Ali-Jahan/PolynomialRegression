{
  "nbformat": 4,
  "nbformat_minor": 0,
  "metadata": {
    "colab": {
      "name": "PolyReg.ipynb",
      "provenance": []
    },
    "kernelspec": {
      "name": "python3",
      "display_name": "Python 3"
    }
  },
  "cells": [
    {
      "cell_type": "markdown",
      "metadata": {
        "id": "lqmpzfNePTUC",
        "colab_type": "text"
      },
      "source": [
        "# Implementation of Polynomial Regression using the basic expansion $\\phi_j (x) = x^j$"
      ]
    },
    {
      "cell_type": "code",
      "metadata": {
        "id": "je2vDmlQOp2M",
        "colab_type": "code",
        "colab": {}
      },
      "source": [
        "import numpy as np\n",
        "\n",
        "class PolynomialRegression:\n",
        "\n",
        "    def __init__(self, degree=1, reg_lambda=1E-8):\n",
        "\n",
        "        # degree of the polynomial expansion\n",
        "        self.deg = degree\n",
        "        # regularization lambda\n",
        "        self.regLambda = reg_lambda\n",
        "        # theta matrix\n",
        "        self.theta = None\n",
        "\n",
        "\n",
        "    def polyfeatures(self, X, degree):\n",
        "\n",
        "        # polynomial expansion using polyvander\n",
        "        xPolyFeat = np.polynomial.polynomial.polyvander(X.T[0], degree)\n",
        "\n",
        "        # removing the 1s column (zero-th power)\n",
        "        xPolyFeat = np.delete(xPolyFeat, 0, 1)\n",
        "\n",
        "        return xPolyFeat\n",
        "\n",
        "    def fit(self, X, y):\n",
        "\n",
        "        # poly expansion\n",
        "        X_ = self.polyfeatures(X, self.deg)\n",
        "\n",
        "        # storing mean and sigma of each row for standardization\n",
        "        self.mean = X_.mean(axis=0)\n",
        "        self.sigma = X_.std(axis=0)\n",
        "\n",
        "        X_ = (X_ - self.mean) / self.sigma\n",
        "\n",
        "        # adding the 1s column\n",
        "        X_ = np.c_[np.ones([len(X), 1]), X_]\n",
        "\n",
        "        # regularization matrix\n",
        "        reg_matrix = self.regLambda * np.eye(self.deg + 1)\n",
        "        reg_matrix[0, 0] = 0\n",
        "\n",
        "        # theta solution\n",
        "        self.theta = np.linalg.pinv(X_.T.dot(X_) + reg_matrix).dot(X_.T.dot(y))\n",
        "\n",
        "    def predict(self, X):\n",
        "\n",
        "        # expand to polyfeatures\n",
        "        X_ = self.polyfeatures(X, self.deg)\n",
        "        \n",
        "        # Standardization using the previously defined mean and sigma\n",
        "        X_ = (X_ - self.mean) / self.sigma\n",
        "\n",
        "        # adding the 1s column\n",
        "        X_ = np.c_[np.ones([len(X), 1]), X_]\n",
        "\n",
        "        return X_.dot(self.theta)"
      ],
      "execution_count": null,
      "outputs": []
    }
  ]
}